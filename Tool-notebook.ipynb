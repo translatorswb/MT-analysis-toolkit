{
 "cells": [
  {
   "cell_type": "code",
   "execution_count": 1,
   "id": "605f6703",
   "metadata": {},
   "outputs": [],
   "source": [
    "import requests\n",
    "import ruamel.yaml as yaml\n",
    "import json\n",
    "import os\n",
    "import sys\n",
    "from typing import List, Tuple, Dict, Union, Optional, Any"
   ]
  },
  {
   "cell_type": "code",
   "execution_count": null,
   "id": "b0544bb9",
   "metadata": {},
   "outputs": [],
   "source": [
    "credentials_path = 'memsource_credentials.yml'"
   ]
  },
  {
   "cell_type": "code",
   "execution_count": 5,
   "id": "e921c9b8",
   "metadata": {},
   "outputs": [],
   "source": [
    "#For .ipynb notebook\n",
    "project_name = \"NLLB eval workflow test 3\""
   ]
  },
  {
   "cell_type": "code",
   "execution_count": null,
   "id": "d57f6f1b",
   "metadata": {},
   "outputs": [],
   "source": [
    "#For .py script\n",
    "project_name = sys.argv[1]\n",
    "print('project', project_name)"
   ]
  },
  {
   "cell_type": "markdown",
   "id": "6fcd7562",
   "metadata": {},
   "source": [
    "### 1- authenticate"
   ]
  },
  {
   "cell_type": "code",
   "execution_count": 6,
   "id": "6d50d95e",
   "metadata": {},
   "outputs": [],
   "source": [
    "def load_credentials(memsource_credentials):\n",
    "    with open(memsource_credentials, \"r\") as f:\n",
    "        data = yaml.safe_load(f)\n",
    "        return (data[\"memsource_username\"], data[\"memsource_password\"])"
   ]
  },
  {
   "cell_type": "code",
   "execution_count": 7,
   "id": "5b153ccf",
   "metadata": {},
   "outputs": [],
   "source": [
    "def api_get_token(username, password):\n",
    "    assert isinstance(username, str)\n",
    "    assert isinstance(password, str)\n",
    "\n",
    "    res = requests.post(\n",
    "        \"https://cloud.memsource.com/web/api2/v1/auth/login\",\n",
    "        json={\"userName\": username, \"password\": password},\n",
    "    )\n",
    "\n",
    "    return res.json()[\"token\"]\n",
    "\n",
    "\n",
    "def authenticate(memsource_credentials):\n",
    "    return api_get_token(*load_credentials(memsource_credentials))\n",
    "\n",
    "def arg_checker(\n",
    "    acceptable: Union[List[Tuple[str, str]], List[str]],\n",
    "    **kwargs\n",
    ") -> bool:\n",
    "\n",
    "    ref = {}\n",
    "    for x in acceptable:\n",
    "        if not isinstance(x, tuple):\n",
    "            x = {x: object}\n",
    "        else:\n",
    "            x = {x[0]: x[1]}\n",
    "        ref.update(**x)\n",
    "\n",
    "    for key, val in kwargs.items():\n",
    "        try:\n",
    "            assert key in ref\n",
    "        except AssertionError:\n",
    "            logger.error(f\"Wrong argument name: {key} is not in {ref.keys()}\")\n",
    "            raise\n",
    "\n",
    "        try:\n",
    "            assert isinstance(val, ref[key])\n",
    "        except AssertionError:\n",
    "            logger.error(\n",
    "                f\"Wrong argument type: {key} = {val} should be of type {ref[key]}\"\n",
    "            )\n",
    "            raise\n",
    "\n",
    "    return True\n",
    "\n",
    "def check_status(\n",
    "    res: requests.Response,\n",
    "    element: str,\n",
    "    **kwargs):\n",
    "    if res.ok:\n",
    "        return res.json()\n",
    "    else:\n",
    "        if res.status_code == 404:\n",
    "            print(f\"Could not find {element}: parameter: `{kwargs}`\")\n",
    "        else:\n",
    "            print(f\"Problem with the request: parameters: `{kwargs}`\")\n",
    "        return False"
   ]
  },
  {
   "cell_type": "code",
   "execution_count": 8,
   "id": "9bec7561",
   "metadata": {},
   "outputs": [
    {
     "name": "stdout",
     "output_type": "stream",
     "text": [
      "token 5Z1y87rQvyY1A4dOfs2EUgN1TcnDeSARodzadTHu0udQ3O02OIVLypJv8U3DtVqln\n"
     ]
    }
   ],
   "source": [
    "authentication_token = authenticate(credentials_path)\n",
    "print(\"token\", authentication_token)"
   ]
  },
  {
   "cell_type": "markdown",
   "id": "0a6926d8",
   "metadata": {},
   "source": [
    "### 1.5 - Get project uid"
   ]
  },
  {
   "cell_type": "code",
   "execution_count": 9,
   "id": "57b243d7",
   "metadata": {},
   "outputs": [],
   "source": [
    "def api_list_projects(token, **kwargs):\n",
    "\n",
    "    res = requests.get(\n",
    "        f\"https://cloud.memsource.com/web/api2/v1/projects\",\n",
    "        params={\"token\": token, **kwargs},\n",
    "    )\n",
    "\n",
    "    return res.json()\n",
    "\n",
    "def get_project_uid_from_name(project_name, token):\n",
    "    projects_info = api_list_projects(token)\n",
    "    if 'content' in projects_info:\n",
    "        for p in projects_info['content']:\n",
    "            if p['name'] == project_name:\n",
    "                return p['uid']\n",
    "    else:\n",
    "        print(projects_info['errorDescription'])\n",
    "    \n",
    "    return None"
   ]
  },
  {
   "cell_type": "code",
   "execution_count": 11,
   "id": "e0c16b6e",
   "metadata": {
    "scrolled": true
   },
   "outputs": [
    {
     "name": "stdout",
     "output_type": "stream",
     "text": [
      "project_uid 11Q1aqH4FuqRE9H1F0DsD61\n"
     ]
    }
   ],
   "source": [
    "project_uid = get_project_uid_from_name(\"NLLB eval workflow test 3\", authentication_token)\n",
    "print('project_uid', project_uid)"
   ]
  },
  {
   "cell_type": "markdown",
   "id": "8c4b9a68",
   "metadata": {},
   "source": [
    "### 2- List jobs of project"
   ]
  },
  {
   "cell_type": "code",
   "execution_count": 12,
   "id": "50e72aac",
   "metadata": {},
   "outputs": [],
   "source": [
    "def api_list_jobs(project_uid, token, **kwargs):\n",
    "    assert arg_checker(\n",
    "        acceptable=[\n",
    "            (\"pageNumber\", int),\n",
    "            (\"pageSize\", int),\n",
    "            (\"count\", int),\n",
    "            (\"workflowLevel\", int),\n",
    "            (\"status\", str),\n",
    "            (\"targetLang\", str),\n",
    "        ],\n",
    "        **kwargs,\n",
    "    )\n",
    "\n",
    "    res = requests.get(\n",
    "        f\"https://cloud.memsource.com/web/api2/v2/projects/{project_uid}/jobs\",\n",
    "        params={\"token\": token, **kwargs},\n",
    "    )\n",
    "\n",
    "    return check_status(res, \"jobs\", **kwargs)\n",
    "\n",
    "def get_completed_job_ids(job_list):\n",
    "    return [job['uid'] for job in job_list['content'] if job['status'] == \"COMPLETED\"]\n",
    "\n",
    "def get_filename_of_job(job_uid, job_list):\n",
    "    for job in job_list['content']:\n",
    "        if job['uid'] == job_uid:\n",
    "            return job['filename']\n",
    "    return None"
   ]
  },
  {
   "cell_type": "code",
   "execution_count": 25,
   "id": "b00e47f4",
   "metadata": {},
   "outputs": [
    {
     "name": "stdout",
     "output_type": "stream",
     "text": [
      "jobs ['CxkZxeg5e2H2bFkCapu017', '3VFwgmpxss8r3pe7qVxU81']\n",
      "complete ['CxkZxeg5e2H2bFkCapu017', '3VFwgmpxss8r3pe7qVxU81']\n"
     ]
    }
   ],
   "source": [
    "#DOUBT\n",
    "#I get the same job ids for all workflow levels\n",
    "#How to specify later doing the analysis on MT or Tr?\n",
    "\n",
    "workflow_level = 3 # 1-MT, 2-Tr, 3-Rv\n",
    "job_list = api_list_jobs(project_uid, authentication_token, workflowLevel=3)\n",
    "complete_jobs = get_completed_job_ids(job_list)\n",
    "print('jobs', [j['uid'] for j in job_list['content']])\n",
    "print('complete', complete_jobs)"
   ]
  },
  {
   "cell_type": "markdown",
   "id": "3d8f4449",
   "metadata": {},
   "source": [
    "### 3 - Create analyses"
   ]
  },
  {
   "cell_type": "code",
   "execution_count": 39,
   "id": "a9a0e3a9",
   "metadata": {},
   "outputs": [],
   "source": [
    "def api_post_create_analysis(token, job_uid_list, analysis_type, countSourceUnits, analysis_name, compareWorkflowLevel=None):\n",
    "    if analysis_type == \"Compare\":\n",
    "        json={\"jobs\":[{\"uid\":uid} for uid in job_uid_list], \n",
    "              \"type\":analysis_type, \"countSourceUnits\":countSourceUnits, \n",
    "              \"name\":analysis_name, \"compareWorkflowLevel\":compareWorkflowLevel}\n",
    "    else:\n",
    "        json={\"jobs\":[{\"uid\":uid} for uid in job_uid_list], \n",
    "              \"type\":analysis_type, \"countSourceUnits\":countSourceUnits, \n",
    "              \"name\":analysis_name}\n",
    "    \n",
    "    res = requests.post(\n",
    "        \"https://cloud.memsource.com/web/api2/v1/analyses\",\n",
    "        params={\"token\": token},\n",
    "        json=json,\n",
    "    )\n",
    "\n",
    "    return res.json()"
   ]
  },
  {
   "cell_type": "code",
   "execution_count": 26,
   "id": "db288df0",
   "metadata": {},
   "outputs": [],
   "source": [
    "#For .ipynb (take the first complete job)\n",
    "job_id = complete_jobs[1]"
   ]
  },
  {
   "cell_type": "code",
   "execution_count": null,
   "id": "40a1bd9c",
   "metadata": {},
   "outputs": [],
   "source": [
    "#for .py script\n",
    "for job_id in complete_jobs:\n",
    "    #indent cells after"
   ]
  },
  {
   "cell_type": "code",
   "execution_count": 27,
   "id": "4bf9914a",
   "metadata": {},
   "outputs": [
    {
     "name": "stdout",
     "output_type": "stream",
     "text": [
      "job 3VFwgmpxss8r3pe7qVxU81 Word file.docx\n"
     ]
    }
   ],
   "source": [
    "doc_id = get_filename_of_job(job_id, job_list)\n",
    "print('job', job_id, doc_id)"
   ]
  },
  {
   "cell_type": "code",
   "execution_count": 21,
   "id": "ceada6ea",
   "metadata": {},
   "outputs": [
    {
     "name": "stdout",
     "output_type": "stream",
     "text": [
      "TWBData-PreAnalyse-CxkZxeg5e2H2bFkCapu017-testdoc4.odt\n",
      "{'asyncRequest': {'action': 'PRE_ANALYSE', 'asyncResponse': None, 'createdBy': {'userName': 'alp.oktem', 'uid': 'NlFL3FLGprpWblWU7gWOb3', 'id': '819479', 'firstName': 'Alp', 'lastName': 'Oktem', 'role': 'PROJECT_MANAGER', 'email': 'alp.oktem@clearglobal.org'}, 'dateCreated': '2022-11-25T18:31:06+0000', 'id': '837754006', 'project': {'uid': '11Q1aqH4FuqRE9H1F0DsD61', 'name': 'NLLB eval workflow test 3'}, 'parent': None}, 'analyse': {'id': '117601653'}}\n"
     ]
    }
   ],
   "source": [
    "#Pre-analysis on MT\n",
    "analysis_type = \"PreAnalyse\"\n",
    "pre_analysis_name = f\"TWBData-{analysis_type}-{job_id}-{doc_id}\"\n",
    "res = api_post_create_analysis(authentication_token, complete_jobs, analysis_type=\"PreAnalyse\", \n",
    "                         countSourceUnits=False, analysis_name=pre_analysis_name)\n",
    "print(pre_analysis_name)\n",
    "print(res)"
   ]
  },
  {
   "cell_type": "code",
   "execution_count": 37,
   "id": "51083564",
   "metadata": {},
   "outputs": [
    {
     "name": "stdout",
     "output_type": "stream",
     "text": [
      "TWBData-PostAnalyse-3VFwgmpxss8r3pe7qVxU81-Word file.docx\n",
      "{'asyncRequest': {'action': 'POST_ANALYSE', 'asyncResponse': None, 'createdBy': {'userName': 'alp.oktem', 'uid': 'NlFL3FLGprpWblWU7gWOb3', 'id': '819479', 'firstName': 'Alp', 'lastName': 'Oktem', 'role': 'PROJECT_MANAGER', 'email': 'alp.oktem@clearglobal.org'}, 'dateCreated': '2022-11-25T18:48:30+0000', 'id': '837758316', 'project': {'uid': '11Q1aqH4FuqRE9H1F0DsD61', 'name': 'NLLB eval workflow test 3'}, 'parent': None}, 'analyse': {'id': '117602866'}}\n"
     ]
    }
   ],
   "source": [
    "#Post-editing analysis on (post-edited) Translation\n",
    "analysis_type = \"PostAnalyse\"\n",
    "post_analysis_name = f\"TWBData-{analysis_type}-{job_id}-{doc_id}\"\n",
    "res = api_post_create_analysis(authentication_token, [job_id], analysis_type=analysis_type, \n",
    "                         countSourceUnits=False, analysis_name=post_analysis_name)\n",
    "print(post_analysis_name)\n",
    "print(res)"
   ]
  },
  {
   "cell_type": "code",
   "execution_count": null,
   "id": "7fdac6de",
   "metadata": {},
   "outputs": [],
   "source": [
    "#Post editing analysis on revision \n",
    "#(How to specify it? Job ids are all the same)\n"
   ]
  },
  {
   "cell_type": "code",
   "execution_count": 40,
   "id": "2e6e2129",
   "metadata": {},
   "outputs": [
    {
     "name": "stdout",
     "output_type": "stream",
     "text": [
      "TWBData-Compare-3VFwgmpxss8r3pe7qVxU81-Word file.docx\n",
      "{'asyncRequest': {'action': 'COMPARE_ANALYSE', 'asyncResponse': None, 'createdBy': {'userName': 'alp.oktem', 'uid': 'NlFL3FLGprpWblWU7gWOb3', 'id': '819479', 'firstName': 'Alp', 'lastName': 'Oktem', 'role': 'PROJECT_MANAGER', 'email': 'alp.oktem@clearglobal.org'}, 'dateCreated': '2022-11-25T18:49:18+0000', 'id': '837758411', 'project': {'uid': '11Q1aqH4FuqRE9H1F0DsD61', 'name': 'NLLB eval workflow test 3'}, 'parent': None}, 'analyse': {'id': '117602894'}}\n"
     ]
    }
   ],
   "source": [
    "#Compare analysis  \n",
    "#What should compareWorkflowLevel be?\n",
    "analysis_type = \"Compare\"\n",
    "post_analysis_name = f\"TWBData-{analysis_type}-{job_id}-{doc_id}\"\n",
    "res = api_post_create_analysis(authentication_token, [job_id], analysis_type=analysis_type, \n",
    "                               countSourceUnits=False, analysis_name=post_analysis_name,\n",
    "                               compareWorkflowLevel=1)\n",
    "print(post_analysis_name)\n",
    "print(res)"
   ]
  },
  {
   "cell_type": "markdown",
   "id": "6bfa74af",
   "metadata": {},
   "source": [
    "### 4 - List analyses"
   ]
  },
  {
   "cell_type": "code",
   "execution_count": null,
   "id": "fb515ae7",
   "metadata": {},
   "outputs": [],
   "source": [
    "def api_list_analyses(token, project_uid, job_uid):\n",
    "\n",
    "    res = requests.get(\n",
    "        f\"https://cloud.memsource.com/web/api2/v3/projects/{project_uid}/jobs/{job_uid}/analyses\",\n",
    "        params={\"token\": token},\n",
    "    )\n",
    "\n",
    "    return res.json()\n",
    "\n",
    "def get_analyseuid_from_name(analysis_name, analysis_list):\n",
    "    #Warning: returns first analysis with name. There might be multiplicates\n",
    "    for ana in analysis_list['content']: \n",
    "        if ana['name'] == analysis_name:\n",
    "            return ana['uid']"
   ]
  },
  {
   "cell_type": "code",
   "execution_count": null,
   "id": "af728d91",
   "metadata": {},
   "outputs": [],
   "source": [
    "analysis_list = api_list_analyses(authentication_token, project_uid, job_id)"
   ]
  },
  {
   "cell_type": "code",
   "execution_count": null,
   "id": "41d1a71e",
   "metadata": {},
   "outputs": [],
   "source": [
    "print('ANALYSES')\n",
    "for aname in [a['name'] for a in analysis_list['content']]:\n",
    "    print(aname)"
   ]
  },
  {
   "cell_type": "code",
   "execution_count": null,
   "id": "6d1d8a11",
   "metadata": {},
   "outputs": [],
   "source": [
    "#get_analyseuid_from_name(analysis_name, analysis_list)"
   ]
  },
  {
   "cell_type": "markdown",
   "id": "1012e494",
   "metadata": {},
   "source": [
    "### 5- Get analysis result"
   ]
  },
  {
   "cell_type": "code",
   "execution_count": null,
   "id": "7a28be5a",
   "metadata": {},
   "outputs": [],
   "source": [
    "def api_get_analysis(token, analyse_uid):\n",
    "\n",
    "    res = requests.get(\n",
    "        f\"https://cloud.memsource.com/web/api2/v3/analyses/{analyse_uid}\",\n",
    "        params={\"token\": token},\n",
    "    )\n",
    "\n",
    "    return res.json()"
   ]
  },
  {
   "cell_type": "code",
   "execution_count": null,
   "id": "86adf435",
   "metadata": {},
   "outputs": [],
   "source": [
    "pre_analyse_id = get_analyseuid_from_name(pre_analysis_name, analysis_list)\n",
    "pre_analysis_result = api_get_analysis(authentication_token, pre_analyse_id)"
   ]
  },
  {
   "cell_type": "code",
   "execution_count": null,
   "id": "d37a2a2a",
   "metadata": {},
   "outputs": [],
   "source": [
    "pre_analysis_out = os.path.join('results', pre_analysis_name + '.json')\n",
    "\n",
    "with open(pre_analysis_out, 'w') as f:\n",
    "    f.write(json.dumps(pre_analysis_result, indent=4))"
   ]
  },
  {
   "cell_type": "code",
   "execution_count": null,
   "id": "047bb1eb",
   "metadata": {},
   "outputs": [],
   "source": [
    "post_analyse_id = get_analyseuid_from_name(post_analysis_name, analysis_list)\n",
    "post_analysis_result = api_get_analysis(authentication_token, post_analyse_id)"
   ]
  },
  {
   "cell_type": "code",
   "execution_count": null,
   "id": "4ad7fdb4",
   "metadata": {},
   "outputs": [],
   "source": [
    "post_analysis_out = os.path.join('results', post_analysis_name + '.json')\n",
    "\n",
    "with open(post_analysis_out, 'w') as f:\n",
    "    f.write(json.dumps(post_analysis_result, indent=4))"
   ]
  },
  {
   "cell_type": "markdown",
   "id": "3d4c849d",
   "metadata": {},
   "source": [
    "### 6- Interpret results\n",
    "\n",
    "- Translation edit percentage from PE analysis on translation\n",
    "- Accumulative edit percentage from PE analysis on revisionm\n",
    "- Time from PE analysis on revision?"
   ]
  },
  {
   "cell_type": "code",
   "execution_count": null,
   "id": "83b4319d",
   "metadata": {},
   "outputs": [],
   "source": []
  }
 ],
 "metadata": {
  "kernelspec": {
   "display_name": "Python 3",
   "language": "python",
   "name": "python3"
  },
  "language_info": {
   "codemirror_mode": {
    "name": "ipython",
    "version": 3
   },
   "file_extension": ".py",
   "mimetype": "text/x-python",
   "name": "python",
   "nbconvert_exporter": "python",
   "pygments_lexer": "ipython3",
   "version": "3.7.10"
  }
 },
 "nbformat": 4,
 "nbformat_minor": 5
}
