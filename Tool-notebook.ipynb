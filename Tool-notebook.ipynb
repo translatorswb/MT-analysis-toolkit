{
 "cells": [
  {
   "cell_type": "code",
   "execution_count": 1,
   "id": "605f6703",
   "metadata": {},
   "outputs": [],
   "source": [
    "import requests\n",
    "import ruamel.yaml as yaml\n",
    "import json\n",
    "import os\n",
    "import sys\n",
    "from typing import List, Tuple, Dict, Union, Optional, Any"
   ]
  },
  {
   "cell_type": "code",
   "execution_count": 2,
   "id": "b0544bb9",
   "metadata": {},
   "outputs": [],
   "source": [
    "credentials_path = 'memsource_credentials.yml'"
   ]
  },
  {
   "cell_type": "code",
   "execution_count": 3,
   "id": "e921c9b8",
   "metadata": {},
   "outputs": [],
   "source": [
    "#For .ipynb notebook\n",
    "PROJECT_NAME = \"Alp MT eval test proper workflow\""
   ]
  },
  {
   "cell_type": "code",
   "execution_count": 4,
   "id": "d57f6f1b",
   "metadata": {},
   "outputs": [
    {
     "name": "stdout",
     "output_type": "stream",
     "text": [
      "project Alp MT eval test proper workflow\n"
     ]
    }
   ],
   "source": [
    "#For .py script\n",
    "project_name = sys.argv[1]\n",
    "print('project', PROJECT_NAME)"
   ]
  },
  {
   "cell_type": "markdown",
   "id": "6fcd7562",
   "metadata": {},
   "source": [
    "### 1- authenticate"
   ]
  },
  {
   "cell_type": "code",
   "execution_count": 5,
   "id": "6d50d95e",
   "metadata": {},
   "outputs": [],
   "source": [
    "def load_credentials(memsource_credentials):\n",
    "    with open(memsource_credentials, \"r\") as f:\n",
    "        data = yaml.safe_load(f)\n",
    "        return (data[\"memsource_username\"], data[\"memsource_password\"])"
   ]
  },
  {
   "cell_type": "code",
   "execution_count": 6,
   "id": "5b153ccf",
   "metadata": {},
   "outputs": [],
   "source": [
    "def api_get_token(username, password):\n",
    "    assert isinstance(username, str)\n",
    "    assert isinstance(password, str)\n",
    "\n",
    "    res = requests.post(\n",
    "        \"https://cloud.memsource.com/web/api2/v1/auth/login\",\n",
    "        json={\"userName\": username, \"password\": password},\n",
    "    )\n",
    "\n",
    "    return res.json()[\"token\"]\n",
    "\n",
    "\n",
    "def authenticate(memsource_credentials):\n",
    "    return api_get_token(*load_credentials(memsource_credentials))\n",
    "\n",
    "def arg_checker(\n",
    "    acceptable: Union[List[Tuple[str, str]], List[str]],\n",
    "    **kwargs\n",
    ") -> bool:\n",
    "\n",
    "    ref = {}\n",
    "    for x in acceptable:\n",
    "        if not isinstance(x, tuple):\n",
    "            x = {x: object}\n",
    "        else:\n",
    "            x = {x[0]: x[1]}\n",
    "        ref.update(**x)\n",
    "\n",
    "    for key, val in kwargs.items():\n",
    "        try:\n",
    "            assert key in ref\n",
    "        except AssertionError:\n",
    "            logger.error(f\"Wrong argument name: {key} is not in {ref.keys()}\")\n",
    "            raise\n",
    "\n",
    "        try:\n",
    "            assert isinstance(val, ref[key])\n",
    "        except AssertionError:\n",
    "            logger.error(\n",
    "                f\"Wrong argument type: {key} = {val} should be of type {ref[key]}\"\n",
    "            )\n",
    "            raise\n",
    "\n",
    "    return True\n",
    "\n",
    "def check_status(\n",
    "    res: requests.Response,\n",
    "    element: str,\n",
    "    **kwargs):\n",
    "    if res.ok:\n",
    "        return res.json()\n",
    "    else:\n",
    "        if res.status_code == 404:\n",
    "            print(f\"Could not find {element}: parameter: `{kwargs}`\")\n",
    "        else:\n",
    "            print(f\"Problem with the request: parameters: `{kwargs}`\")\n",
    "        return False"
   ]
  },
  {
   "cell_type": "code",
   "execution_count": 7,
   "id": "9bec7561",
   "metadata": {},
   "outputs": [
    {
     "name": "stdout",
     "output_type": "stream",
     "text": [
      "token HASPfWfW9n9q3I5oJJS0km07eqC10AMkEWznZQI6zbAtzJhQ09XTx21zgFXAVVu7z\n"
     ]
    }
   ],
   "source": [
    "authentication_token = authenticate(credentials_path)\n",
    "print(\"token\", authentication_token)"
   ]
  },
  {
   "cell_type": "markdown",
   "id": "0a6926d8",
   "metadata": {},
   "source": [
    "### 1.5 - Get project uid"
   ]
  },
  {
   "cell_type": "code",
   "execution_count": 8,
   "id": "57b243d7",
   "metadata": {},
   "outputs": [],
   "source": [
    "# def api_list_projects_old(token, **kwargs):\n",
    "\n",
    "#     res = requests.get(\n",
    "#         f\"https://cloud.memsource.com/web/api2/v1/projects\",\n",
    "#         params={\"token\": token, **kwargs},\n",
    "#     )\n",
    "\n",
    "#     return res.json()\n",
    "\n",
    "def get_authorization_header(token):\n",
    "    return {\n",
    "      'Authorization': 'ApiToken '+ token\n",
    "    }\n",
    "\n",
    "def api_list_projects(token, **kwargs):\n",
    "    \n",
    "#     headers = {\n",
    "#       'Authorization': 'ApiToken '+ token\n",
    "#     }\n",
    "    \n",
    "    url  = f\"https://cloud.memsource.com/web/api2/v1/projects\"\n",
    "    response = requests.request(\"GET\", url, headers=get_authorization_header(token))\n",
    "\n",
    "    return response.json()\n",
    "\n",
    "def get_project_uid_from_name(project_name, token):\n",
    "    projects_info = api_list_projects(token)\n",
    "    if 'content' in projects_info:\n",
    "        for p in projects_info['content']:\n",
    "            if p['name'] == project_name:\n",
    "                return p['uid']\n",
    "    else:\n",
    "        print(projects_info['errorDescription'])\n",
    "    \n",
    "    return None"
   ]
  },
  {
   "cell_type": "code",
   "execution_count": 9,
   "id": "e0c16b6e",
   "metadata": {
    "scrolled": true
   },
   "outputs": [
    {
     "name": "stdout",
     "output_type": "stream",
     "text": [
      "project_uid BgtKhsRdh98p39tFwAjOp2\n"
     ]
    }
   ],
   "source": [
    "project_uid = get_project_uid_from_name(PROJECT_NAME, authentication_token)\n",
    "print('project_uid', project_uid)"
   ]
  },
  {
   "cell_type": "markdown",
   "id": "8c4b9a68",
   "metadata": {},
   "source": [
    "### 2- List jobs of project"
   ]
  },
  {
   "cell_type": "code",
   "execution_count": 10,
   "id": "50e72aac",
   "metadata": {},
   "outputs": [],
   "source": [
    "def api_list_jobs(project_uid, token, **kwargs):\n",
    "    assert arg_checker(\n",
    "        acceptable=[\n",
    "            (\"pageNumber\", int),\n",
    "            (\"pageSize\", int),\n",
    "            (\"count\", int),\n",
    "            (\"workflowLevel\", int),\n",
    "            (\"status\", str),\n",
    "            (\"targetLang\", str),\n",
    "        ],\n",
    "        **kwargs,\n",
    "    )\n",
    "\n",
    "    res = requests.get(\n",
    "        f\"https://cloud.memsource.com/web/api2/v2/projects/{project_uid}/jobs\",\n",
    "        params={\"token\": token, **kwargs},\n",
    "        headers=get_authorization_header(token)\n",
    "    )\n",
    "\n",
    "#     return check_status(res, \"jobs\", **kwargs)\n",
    "    return res.json()\n",
    "\n",
    "def get_completed_job_ids(job_list):\n",
    "    return [job['uid'] for job in job_list['content'] if job['status'] == \"COMPLETED\"]\n",
    "\n",
    "def get_filename_of_job(job_uid, jobs_responses_per_workflow):\n",
    "    for workflow in jobs_responses_per_workflow:\n",
    "        for job in jobs_responses_per_workflow[workflow]['content']:\n",
    "            if job['uid'] == job_uid:\n",
    "                return job['filename']\n",
    "    return None\n",
    "\n",
    "def get_workflow_id(workflow_step):\n",
    "    if workflow_step == 1:\n",
    "        return \"MT\"\n",
    "    elif workflow_step == 2:\n",
    "        return \"Tr\"\n",
    "    elif workflow_step == 3:\n",
    "        return \"Rv\"\n",
    "    else:\n",
    "        return \"Unknown\""
   ]
  },
  {
   "cell_type": "code",
   "execution_count": 11,
   "id": "b00e47f4",
   "metadata": {},
   "outputs": [
    {
     "name": "stdout",
     "output_type": "stream",
     "text": [
      "Workflow 1 MT\n",
      "jobs ['uvXTnPrkFPFw1OH2dZM3S0', 'kSAE5Mp42Arte9Mm49iV72', 'jqSPSXBNf28ReB89Xj0SH3']\n",
      "complete ['uvXTnPrkFPFw1OH2dZM3S0', 'kSAE5Mp42Arte9Mm49iV72', 'jqSPSXBNf28ReB89Xj0SH3']\n",
      "===\n",
      "Workflow 2 Tr\n",
      "jobs ['kqE1oR58iLhNvqX5HHsb12', 'zIwsnGAayQ8W5dKz8sDqc1', '1VO1cxrWAvA1nFFUey4J33']\n",
      "complete ['kqE1oR58iLhNvqX5HHsb12', 'zIwsnGAayQ8W5dKz8sDqc1', '1VO1cxrWAvA1nFFUey4J33']\n",
      "===\n",
      "Workflow 3 Rv\n",
      "jobs ['v08dKyBAquPca2D3kw0iQ0', 'zXRroWsCWIWw5ppqpdDR02', 'xEqQdrN3C5El3xDxEv3Qf1']\n",
      "complete ['v08dKyBAquPca2D3kw0iQ0']\n",
      "===\n",
      "All\n",
      "jobs ['uvXTnPrkFPFw1OH2dZM3S0', 'xEqQdrN3C5El3xDxEv3Qf1', 'zIwsnGAayQ8W5dKz8sDqc1', 'zXRroWsCWIWw5ppqpdDR02', 'v08dKyBAquPca2D3kw0iQ0', 'kqE1oR58iLhNvqX5HHsb12', 'jqSPSXBNf28ReB89Xj0SH3', 'kSAE5Mp42Arte9Mm49iV72', '1VO1cxrWAvA1nFFUey4J33']\n",
      "complete ['uvXTnPrkFPFw1OH2dZM3S0', 'jqSPSXBNf28ReB89Xj0SH3', 'zIwsnGAayQ8W5dKz8sDqc1', 'kSAE5Mp42Arte9Mm49iV72', 'v08dKyBAquPca2D3kw0iQ0', '1VO1cxrWAvA1nFFUey4J33', 'kqE1oR58iLhNvqX5HHsb12']\n",
      "complete per wf {1: ['uvXTnPrkFPFw1OH2dZM3S0', 'kSAE5Mp42Arte9Mm49iV72', 'jqSPSXBNf28ReB89Xj0SH3'], 2: ['kqE1oR58iLhNvqX5HHsb12', 'zIwsnGAayQ8W5dKz8sDqc1', '1VO1cxrWAvA1nFFUey4J33'], 3: ['v08dKyBAquPca2D3kw0iQ0']}\n"
     ]
    }
   ],
   "source": [
    "WORKFLOWS = {1:\"MT\", 2:\"Tr\", 3:\"Rv\"}\n",
    "complete_job_ids_of_project = set()\n",
    "complete_job_ids_of_project_per_workflow = {1:[], 2:[], 3:[]}\n",
    "job_ids_of_project = set()\n",
    "jobs_info_per_workflow = {}\n",
    "\n",
    "for workflow_level in WORKFLOWS:\n",
    "\n",
    "#     workflow_level = 2 # 1-MT, 2-Tr, 3-Rv\n",
    "    workflow = get_workflow_id(workflow_level)\n",
    "    workflow_job_response = api_list_jobs(project_uid, authentication_token, workflowLevel=workflow_level)\n",
    "    complete_jobs = get_completed_job_ids(workflow_job_response)\n",
    "    \n",
    "    job_ids = [j['uid'] for j in workflow_job_response['content']]\n",
    "    \n",
    "    complete_job_ids_of_project = complete_job_ids_of_project.union(complete_jobs)\n",
    "\n",
    "    complete_job_ids_of_project_per_workflow[workflow_level].extend(complete_jobs)\n",
    "    \n",
    "    jobs_info_per_workflow[workflow_level] = workflow_job_response\n",
    "    \n",
    "    job_ids_of_project = job_ids_of_project.union(job_ids)\n",
    "\n",
    "    print(\"Workflow\", workflow_level, workflow)\n",
    "    print('jobs', job_ids)\n",
    "    print('complete', complete_jobs)\n",
    "    print('===')\n",
    "    \n",
    "complete_job_ids_of_project = list(complete_job_ids_of_project)\n",
    "job_ids_of_project = list(job_ids_of_project)\n",
    "# project_job_ids = [j['content']['uid'] for j in jobs_of_project]\n",
    "    \n",
    "print(\"All\")\n",
    "print(\"jobs\", job_ids_of_project)\n",
    "print(\"complete per wf\", complete_job_ids_of_project_per_workflow)"
   ]
  },
  {
   "cell_type": "markdown",
   "id": "3d8f4449",
   "metadata": {},
   "source": [
    "### 3 - Create analyses"
   ]
  },
  {
   "cell_type": "code",
   "execution_count": 13,
   "id": "a9a0e3a9",
   "metadata": {},
   "outputs": [],
   "source": [
    "def api_post_create_analysis(token, job_uid_list, analysis_type, countSourceUnits, analysis_name, compareWorkflowLevel=None):\n",
    "    if analysis_type == \"Compare\":\n",
    "        json={\"jobs\":[{\"uid\":uid} for uid in job_uid_list], \n",
    "              \"type\":analysis_type, \"countSourceUnits\":countSourceUnits, \n",
    "              \"name\":analysis_name, \"compareWorkflowLevel\":compareWorkflowLevel}\n",
    "    else:\n",
    "        json={\"jobs\":[{\"uid\":uid} for uid in job_uid_list], \n",
    "              \"type\":analysis_type, \"countSourceUnits\":countSourceUnits, \n",
    "              \"name\":analysis_name}\n",
    "    \n",
    "    res = requests.post(\n",
    "        \"https://cloud.memsource.com/web/api2/v1/analyses\",\n",
    "        headers=get_authorization_header(token),\n",
    "        json=json,\n",
    "    )\n",
    "\n",
    "    return res.json()\n",
    "\n",
    "#List analysis by project id (https://cloud.memsource.com/web/docs/api#operation/listByProjectV3)\n",
    "def api_list_analyses(token, project_uid):\n",
    "\n",
    "    res = requests.get(\n",
    "        f\"https://cloud.memsource.com/web/api2/v3/projects/{project_uid}/analyses\",\n",
    "        headers=get_authorization_header(token),\n",
    "    )\n",
    "\n",
    "    return res.json()"
   ]
  },
  {
   "cell_type": "code",
   "execution_count": 14,
   "id": "db288df0",
   "metadata": {},
   "outputs": [],
   "source": [
    "analysis_id_list = [an['name'] for an in api_list_analyses(authentication_token, project_uid)['content']]"
   ]
  },
  {
   "cell_type": "code",
   "execution_count": 15,
   "id": "51030e53",
   "metadata": {},
   "outputs": [
    {
     "name": "stdout",
     "output_type": "stream",
     "text": [
      "job uvXTnPrkFPFw1OH2dZM3S0 Test doc.odt\n",
      "job kSAE5Mp42Arte9Mm49iV72 Test dox.odt\n",
      "job jqSPSXBNf28ReB89Xj0SH3 fiftyfifty.odt\n"
     ]
    }
   ],
   "source": [
    "#Pre-analysis on MT (Run on workflow 1)\n",
    "\n",
    "for job_id in complete_job_ids_of_project_per_workflow[1]:\n",
    "    doc_id = get_filename_of_job(job_id, jobs_info_per_workflow)\n",
    "    print('job', job_id, doc_id)\n",
    "    \n",
    "    workflow_level = 1\n",
    "    workflow = get_workflow_id(workflow_level)\n",
    "    analysis_type = \"PreAnalyse\"\n",
    "    pre_analysis_name = f\"TWBData-{analysis_type}-{workflow}-{job_id}-{doc_id}\"\n",
    "    \n",
    "    if pre_analysis_name not in analysis_id_list:\n",
    "        res = api_post_create_analysis(authentication_token, complete_job_ids_of_project, analysis_type=\"PreAnalyse\", \n",
    "                                 countSourceUnits=False, analysis_name=pre_analysis_name)\n",
    "        print(analysis_type, pre_analysis_name)"
   ]
  },
  {
   "cell_type": "code",
   "execution_count": 17,
   "id": "07e39d72",
   "metadata": {},
   "outputs": [
    {
     "name": "stdout",
     "output_type": "stream",
     "text": [
      "job kqE1oR58iLhNvqX5HHsb12 Test doc.odt\n",
      "job zIwsnGAayQ8W5dKz8sDqc1 Test dox.odt\n",
      "job 1VO1cxrWAvA1nFFUey4J33 fiftyfifty.odt\n"
     ]
    }
   ],
   "source": [
    "#Post-editing analysis on Translation (Run on workflow 2)\n",
    "\n",
    "for job_id in complete_job_ids_of_project_per_workflow[2]:\n",
    "    doc_id = get_filename_of_job(job_id, jobs_info_per_workflow)\n",
    "    print('job', job_id, doc_id)\n",
    "    \n",
    "    workflow_level = 2\n",
    "    workflow = get_workflow_id(workflow_level)\n",
    "    analysis_type = \"PostAnalyse\"\n",
    "    translation_post_analysis_name = f\"TWBData-{analysis_type}-{workflow}-{job_id}-{doc_id}\"\n",
    "    if pre_analysis_name not in analysis_id_list:\n",
    "        res = api_post_create_analysis(authentication_token, [job_id], analysis_type=analysis_type, \n",
    "                                 countSourceUnits=False, analysis_name=translation_post_analysis_name)\n",
    "        print(analysis_type, workflow, translation_post_analysis_name)"
   ]
  },
  {
   "cell_type": "code",
   "execution_count": 18,
   "id": "b1f4c899",
   "metadata": {},
   "outputs": [
    {
     "name": "stdout",
     "output_type": "stream",
     "text": [
      "job v08dKyBAquPca2D3kw0iQ0 Test doc.odt\n"
     ]
    }
   ],
   "source": [
    "#Analyses on revision\n",
    "\n",
    "for job_id in complete_job_ids_of_project_per_workflow[3]:\n",
    "    doc_id = get_filename_of_job(job_id, jobs_info_per_workflow)\n",
    "    print('job', job_id, doc_id)\n",
    "    \n",
    "    #Post editing analysis on revision (Run on workflow 3)\n",
    "    workflow_level = 3\n",
    "    workflow = get_workflow_id(workflow_level)\n",
    "    analysis_type = \"PostAnalyse\"\n",
    "    revision_post_analysis_name = f\"TWBData-{analysis_type}-{workflow}-{job_id}-{doc_id}\"\n",
    "    if pre_analysis_name not in analysis_id_list:\n",
    "        res = api_post_create_analysis(authentication_token, [job_id], analysis_type=analysis_type, \n",
    "                                 countSourceUnits=False, analysis_name=revision_post_analysis_name)\n",
    "        print(analysis_type, workflow, revision_post_analysis_name)\n",
    "    \n",
    "    #Compare analysis on revision (Run on workflow 3)\n",
    "    workflow_level = 3\n",
    "    workflow = get_workflow_id(workflow_level)\n",
    "    analysis_type = \"Compare\"\n",
    "    compare_to_workflow_step = 2\n",
    "    compare_to_workflow = get_workflow_id(compare_to_workflow_step)\n",
    "    compare_analysis_name = f\"TWBData-{analysis_type}-{workflow}_{compare_to_workflow}-{job_id}-{doc_id}\"\n",
    "    if pre_analysis_name not in analysis_id_list:\n",
    "        res = api_post_create_analysis(authentication_token, [job_id], analysis_type=analysis_type, \n",
    "                                       countSourceUnits=False, analysis_name=compare_analysis_name,\n",
    "                                       compareWorkflowLevel=compare_to_workflow_step)\n",
    "        print(analysis_type, compare_analysis_name)"
   ]
  },
  {
   "cell_type": "markdown",
   "id": "6bfa74af",
   "metadata": {},
   "source": [
    "### 4 - List analyses"
   ]
  },
  {
   "cell_type": "code",
   "execution_count": 19,
   "id": "6e899a0c",
   "metadata": {},
   "outputs": [],
   "source": [
    "#List analysis by project id (https://cloud.memsource.com/web/docs/api#operation/listByProjectV3)\n",
    "def api_list_analyses(token, project_uid):\n",
    "\n",
    "    res = requests.get(\n",
    "        f\"https://cloud.memsource.com/web/api2/v3/projects/{project_uid}/analyses\",\n",
    "        headers=get_authorization_header(token),\n",
    "    )\n",
    "\n",
    "    return res.json()"
   ]
  },
  {
   "cell_type": "code",
   "execution_count": 20,
   "id": "71ec6216",
   "metadata": {},
   "outputs": [
    {
     "name": "stdout",
     "output_type": "stream",
     "text": [
      "20 ANALYSES for project BgtKhsRdh98p39tFwAjOp2 job v08dKyBAquPca2D3kw0iQ0\n",
      "{'PVwYU5xtigb9fh0TVeLz77': 'TWBData-PostAnalyse-Rv-v08dKyBAquPca2D3kw0iQ0-Test doc.odt', 'Y9anEhqsuTbg4R05Z4gnq4': 'TWBData-Compare-Rv_Tr-v08dKyBAquPca2D3kw0iQ0-Test doc.odt', 'ytKkUqFEY6VF31mW3RqN19': 'TWBData-PostAnalyse-Rv-v08dKyBAquPca2D3kw0iQ0-Test doc.odt', '5SBBHSjd2MW1pae5xXYYZ5': 'TWBData-Compare-Rv_Rv-v08dKyBAquPca2D3kw0iQ0-Test doc.odt', '6zgZA5rcZvGI45VMFSLYR3': 'TWBData-Compare-Rv_Rv-v08dKyBAquPca2D3kw0iQ0-Test doc.odt', 'jfpzxjAcBTovf92mJkThq3': 'TWBData-PostAnalyse-Tr-zIwsnGAayQ8W5dKz8sDqc1-Test dox.odt', 'MGkbuPh0NcTIvanRNoRu86': 'TWBData-PostAnalyse-Tr-1VO1cxrWAvA1nFFUey4J33-fiftyfifty.odt', 'UoTKzyKEaCou9ZnM8ZVkK2': 'TWBData-PostAnalyse-Rv-v08dKyBAquPca2D3kw0iQ0-Test doc.odt', 'mJiSE8YEafqX51IkDxaxl1': 'TWBData-PreAnalyse-MT-uvXTnPrkFPFw1OH2dZM3S0-Test doc.odt', 'Q0yNW811JteTfF2LBE8ED4': 'TWBData-PreAnalyse-MT-kSAE5Mp42Arte9Mm49iV72-Test dox.odt', 'l7DjZSF7D0NTtirMyTGbn7': 'TWBData-PreAnalyse-MT-jqSPSXBNf28ReB89Xj0SH3-fiftyfifty.odt', 'XgJhiVPD4SE1ci2XltifF7': 'TWBData-PostAnalyse-Tr-kqE1oR58iLhNvqX5HHsb12-Test doc.odt', 'wO9f2rm0tpSI9G1ZmvDFV6': 'TWBData-PostAnalyse-Tr-1VO1cxrWAvA1nFFUey4J33-fiftyfifty.odt', 'dGHnMOLnqSbfcJ7SEuHwX0': 'TWBData-PostAnalyse-Rv-v08dKyBAquPca2D3kw0iQ0-Test doc.odt', '6daL1kRF9yiafqJs78Lgl0': 'TWBData-Compare-Rv_Rv-v08dKyBAquPca2D3kw0iQ0-Test doc.odt', 'Q3bvpfVgBFaXfNYUoK7Vn1': 'TWBData-PreAnalyse-MT-uvXTnPrkFPFw1OH2dZM3S0-Test doc.odt', 'VBHQd2BUqDE33J7wx09zM3': 'TWBData-PreAnalyse-MT-kSAE5Mp42Arte9Mm49iV72-Test dox.odt', '71kte9roJBlJ3GipYTHmb7': 'TWBData-PreAnalyse-MT-jqSPSXBNf28ReB89Xj0SH3-fiftyfifty.odt', 'V9yYy311yCwtOkkFDcH1n5': 'TWBData-PostAnalyse-Tr-kqE1oR58iLhNvqX5HHsb12-Test doc.odt', 'nNBgLa334c8L2xGNKSfbn0': 'TWBData-PostAnalyse-Tr-zIwsnGAayQ8W5dKz8sDqc1-Test dox.odt'}\n"
     ]
    }
   ],
   "source": [
    "analysis_list = api_list_analyses(authentication_token, project_uid)\n",
    "analysis_dict = {an['uid']:an['name'] for an in analysis_list['content']}\n",
    "print(len(analysis_dict), 'ANALYSES for project', project_uid, 'job', job_id)"
   ]
  },
  {
   "cell_type": "markdown",
   "id": "1012e494",
   "metadata": {},
   "source": [
    "### 5- Get and save analysis results"
   ]
  },
  {
   "cell_type": "code",
   "execution_count": 21,
   "id": "a9472d44",
   "metadata": {},
   "outputs": [],
   "source": [
    "#Create results dir if it doesn't exist\n",
    "results_dir_name = 'results'\n",
    "if not os.path.exists(results_dir_name):\n",
    "    os.makedirs(results_dir_name)"
   ]
  },
  {
   "cell_type": "code",
   "execution_count": 22,
   "id": "9e79164c",
   "metadata": {},
   "outputs": [],
   "source": [
    "def api_get_analysis(token, analyse_uid):\n",
    "\n",
    "    res = requests.get(\n",
    "        f\"https://cloud.memsource.com/web/api2/v3/analyses/{analyse_uid}\",\n",
    "        headers=get_authorization_header(token),\n",
    "    )\n",
    "\n",
    "    return res.json()\n",
    "\n",
    "def assign_analysis_id(anname:str):\n",
    "    aid = \"\"\n",
    "    "
   ]
  },
  {
   "cell_type": "code",
   "execution_count": 24,
   "id": "eb6f5fae",
   "metadata": {},
   "outputs": [
    {
     "name": "stdout",
     "output_type": "stream",
     "text": [
      "results/Test doc.odt/TWBData-PostAnalyse-Rv-v08dKyBAquPca2D3kw0iQ0-Test doc.odt.json\n",
      "results/Test doc.odt/TWBData-Compare-Rv_Tr-v08dKyBAquPca2D3kw0iQ0-Test doc.odt.json\n",
      "results/Test doc.odt/TWBData-PostAnalyse-Rv-v08dKyBAquPca2D3kw0iQ0-Test doc.odt.json\n",
      "results/Test doc.odt/TWBData-Compare-Rv_Rv-v08dKyBAquPca2D3kw0iQ0-Test doc.odt.json\n",
      "results/Test doc.odt/TWBData-Compare-Rv_Rv-v08dKyBAquPca2D3kw0iQ0-Test doc.odt.json\n",
      "results/Test dox.odt/TWBData-PostAnalyse-Tr-zIwsnGAayQ8W5dKz8sDqc1-Test dox.odt.json\n",
      "results/fiftyfifty.odt/TWBData-PostAnalyse-Tr-1VO1cxrWAvA1nFFUey4J33-fiftyfifty.odt.json\n",
      "results/Test doc.odt/TWBData-PostAnalyse-Rv-v08dKyBAquPca2D3kw0iQ0-Test doc.odt.json\n",
      "results/Test doc.odt/TWBData-PreAnalyse-MT-uvXTnPrkFPFw1OH2dZM3S0-Test doc.odt.json\n",
      "results/Test dox.odt/TWBData-PreAnalyse-MT-kSAE5Mp42Arte9Mm49iV72-Test dox.odt.json\n",
      "results/fiftyfifty.odt/TWBData-PreAnalyse-MT-jqSPSXBNf28ReB89Xj0SH3-fiftyfifty.odt.json\n",
      "results/Test doc.odt/TWBData-PostAnalyse-Tr-kqE1oR58iLhNvqX5HHsb12-Test doc.odt.json\n",
      "results/fiftyfifty.odt/TWBData-PostAnalyse-Tr-1VO1cxrWAvA1nFFUey4J33-fiftyfifty.odt.json\n",
      "results/Test doc.odt/TWBData-PostAnalyse-Rv-v08dKyBAquPca2D3kw0iQ0-Test doc.odt.json\n",
      "results/Test doc.odt/TWBData-Compare-Rv_Rv-v08dKyBAquPca2D3kw0iQ0-Test doc.odt.json\n",
      "results/Test doc.odt/TWBData-PreAnalyse-MT-uvXTnPrkFPFw1OH2dZM3S0-Test doc.odt.json\n",
      "results/Test dox.odt/TWBData-PreAnalyse-MT-kSAE5Mp42Arte9Mm49iV72-Test dox.odt.json\n",
      "results/fiftyfifty.odt/TWBData-PreAnalyse-MT-jqSPSXBNf28ReB89Xj0SH3-fiftyfifty.odt.json\n",
      "results/Test doc.odt/TWBData-PostAnalyse-Tr-kqE1oR58iLhNvqX5HHsb12-Test doc.odt.json\n",
      "results/Test dox.odt/TWBData-PostAnalyse-Tr-zIwsnGAayQ8W5dKz8sDqc1-Test dox.odt.json\n"
     ]
    }
   ],
   "source": [
    "analysis_results_dict = {}\n",
    "\n",
    "for anid, anname in analysis_dict.items():\n",
    "    \n",
    "    doc_name = anname.split('-')[-1]\n",
    "    doc_dir = os.path.join(results_dir_name, doc_name)\n",
    "    \n",
    "    if not os.path.exists(doc_dir):\n",
    "        os.makedirs(doc_dir)\n",
    "    \n",
    "    analysis_result = api_get_analysis(authentication_token, anid)\n",
    "    analysis_out = os.path.join(doc_dir, anname + '.json')\n",
    "    \n",
    "    analysis_results_dict[anname] = analysis_result\n",
    "    \n",
    "    with open(analysis_out, 'w') as f:\n",
    "        f.write(json.dumps(analysis_result, indent=4))\n",
    "        \n",
    "    print(analysis_out)"
   ]
  },
  {
   "cell_type": "markdown",
   "id": "3d4c849d",
   "metadata": {},
   "source": [
    "### 6- Interpret results\n",
    "\n",
    "- Translation Approval Rate: Percentage of segments that were accepted without changes by the translator\n",
    "- Revision approval rate: Percentage of segments that were accepted without changes by the revisor\n",
    " \n",
    "- Translation edit percentage and editing time from PE analysis on translation\n",
    "- Translation edit percentage and editing time from PE analysis on revision\n",
    "- Accumulative edit percentage from PE analysis on revision\n",
    "- Time from PE analysis on revision?\n"
   ]
  },
  {
   "cell_type": "code",
   "execution_count": null,
   "id": "60e3e7b3",
   "metadata": {},
   "outputs": [],
   "source": []
  }
 ],
 "metadata": {
  "kernelspec": {
   "display_name": "Python 3",
   "language": "python",
   "name": "python3"
  },
  "language_info": {
   "codemirror_mode": {
    "name": "ipython",
    "version": 3
   },
   "file_extension": ".py",
   "mimetype": "text/x-python",
   "name": "python",
   "nbconvert_exporter": "python",
   "pygments_lexer": "ipython3",
   "version": "3.7.10"
  }
 },
 "nbformat": 4,
 "nbformat_minor": 5
}
